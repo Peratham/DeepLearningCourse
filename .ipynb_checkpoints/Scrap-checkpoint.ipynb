{
 "cells": [
  {
   "cell_type": "code",
   "execution_count": 1,
   "metadata": {
    "collapsed": true
   },
   "outputs": [],
   "source": [
    "import numpy as np\n",
    "\n"
   ]
  },
  {
   "cell_type": "code",
   "execution_count": 3,
   "metadata": {
    "collapsed": false
   },
   "outputs": [
    {
     "name": "stdout",
     "output_type": "stream",
     "text": [
      "s\n"
     ]
    },
    {
     "ename": "NameError",
     "evalue": "name 'latex' is not defined",
     "output_type": "error",
     "traceback": [
      "\u001b[0;31m---------------------------------------------------------------------------\u001b[0m",
      "\u001b[0;31mNameError\u001b[0m                                 Traceback (most recent call last)",
      "\u001b[0;32m<ipython-input-3-9a895eb154fe>\u001b[0m in \u001b[0;36m<module>\u001b[0;34m()\u001b[0m\n\u001b[1;32m      7\u001b[0m     \u001b[0ms\u001b[0m \u001b[0;34m=\u001b[0m \u001b[0mnp\u001b[0m\u001b[0;34m.\u001b[0m\u001b[0mdot\u001b[0m\u001b[0;34m(\u001b[0m\u001b[0mX\u001b[0m\u001b[0;34m,\u001b[0m\u001b[0mW\u001b[0m\u001b[0;34m)\u001b[0m\u001b[0;34m\u001b[0m\u001b[0m\n\u001b[1;32m      8\u001b[0m     \u001b[0;32mprint\u001b[0m \u001b[0;34m\"s\"\u001b[0m\u001b[0;34m\u001b[0m\u001b[0m\n\u001b[0;32m----> 9\u001b[0;31m     \u001b[0mlatex\u001b[0m\u001b[0;34m(\u001b[0m\u001b[0ms\u001b[0m\u001b[0;34m)\u001b[0m\u001b[0;34m\u001b[0m\u001b[0m\n\u001b[0m\u001b[1;32m     10\u001b[0m \u001b[0;34m\u001b[0m\u001b[0m\n\u001b[1;32m     11\u001b[0m     \u001b[0msReLU\u001b[0m \u001b[0;34m=\u001b[0m \u001b[0ms\u001b[0m\u001b[0;34m.\u001b[0m\u001b[0mclip\u001b[0m\u001b[0;34m(\u001b[0m\u001b[0mmin\u001b[0m\u001b[0;34m=\u001b[0m\u001b[0;36m0\u001b[0m\u001b[0;34m)\u001b[0m\u001b[0;34m\u001b[0m\u001b[0m\n",
      "\u001b[0;31mNameError\u001b[0m: name 'latex' is not defined"
     ]
    }
   ],
   "source": [
    "W = np.matrix([[0.6, 0.7 , 0], [0.01, 0.43, 0.88]])\n",
    "w = np.matrix([[0.02], [0.03],[0.09]])\n",
    "X = np.matrix([[0.75, 0.8],[0.2,0.05],[-0.75, 0.8],[0.2, -0.05]])\n",
    "Y = np.matrix([[1],[1],[-1],[-1]])\n",
    "\n",
    "def latex(x):\n",
    "    X = np.asarray(x)\n",
    "    string = \"\\\\begin{bmatrix}\\n\"\n",
    "    for i in range(0,X.shape[0]):\n",
    "        for j in range(X.shape[1]):\n",
    "            string += str(X[i][j])\n",
    "            if j < X.shape[1] - 1:\n",
    "                string += \" & \"\n",
    "        string += \"\\\\\\ \\n\"\n",
    "    string += \"\\\\end{bmatrix}\"\n",
    "    print string\n",
    "    \n",
    "for i in range(0,3):\n",
    "    s = np.dot(X,W)\n",
    "    print \"s\"\n",
    "    latex(s)\n",
    "\n",
    "    sReLU = s.clip(min=0)\n",
    "    print \"\\n sRelu\"\n",
    "    latex(sReLU)\n",
    "\n",
    "    sout = np.dot(sReLU,w)\n",
    "    print \"\\n Sout\"\n",
    "    latex(sout)\n",
    "\n",
    "    yout = np.tanh(sout)\n",
    "    print \"\\n yout\"\n",
    "    latex(yout)\n",
    "\n",
    "    Loss = 0.5*np.power((yout - Y),2)\n",
    "    print \"\\n Loss\"\n",
    "    latex(Loss)\n",
    "\n",
    "    dSout = np.multiply(1 - np.power(np.tanh(sout),2),(yout - Y))\n",
    "    print \"\\n dSout\"\n",
    "    latex(dSout)\n",
    "\n",
    "    #derivative of ReLU\n",
    "    sReluDeriv = np.zeros(sReLU.shape)\n",
    "    sReluDeriv[sReLU>0] = 1\n",
    "    D = np.multiply(sReluDeriv, np.dot(dSout, w.T))\n",
    "    \n",
    "    print \"\\n D\"\n",
    "    latex( D)\n",
    "\n",
    "    dW = np.dot(X.T, D)\n",
    "    print \"\\n dW\"\n",
    "    latex(dW)\n",
    "    dWout = np.dot(sReLU.T, dSout)\n",
    "    print \"\\n dWout\"\n",
    "    latex(dWout)\n",
    "    \n",
    "    print \"\\n new W\"\n",
    "    W = W - 0.5*dW\n",
    "    latex(W)\n",
    "\n",
    "    print \"\\n new Wout\"\n",
    "    w = w - 0.5*dWout\n",
    "    latex(w)\n",
    "    print \"==================\"\n",
    "    \n"
   ]
  },
  {
   "cell_type": "code",
   "execution_count": null,
   "metadata": {
    "collapsed": true
   },
   "outputs": [],
   "source": []
  }
 ],
 "metadata": {
  "anaconda-cloud": {},
  "kernelspec": {
   "display_name": "Python 2",
   "language": "python",
   "name": "python2"
  },
  "language_info": {
   "codemirror_mode": {
    "name": "ipython",
    "version": 2
   },
   "file_extension": ".py",
   "mimetype": "text/x-python",
   "name": "python",
   "nbconvert_exporter": "python",
   "pygments_lexer": "ipython2",
   "version": "2.7.12"
  }
 },
 "nbformat": 4,
 "nbformat_minor": 1
}

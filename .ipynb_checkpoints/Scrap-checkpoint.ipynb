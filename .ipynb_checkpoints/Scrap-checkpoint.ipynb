{
 "cells": [
  {
   "cell_type": "code",
   "execution_count": 2,
   "metadata": {
    "collapsed": true
   },
   "outputs": [],
   "source": [
    "import numpy as np\n",
    "\n"
   ]
  },
  {
   "cell_type": "code",
   "execution_count": 14,
   "metadata": {
    "collapsed": false
   },
   "outputs": [
    {
     "name": "stdout",
     "output_type": "stream",
     "text": [
      "s\n",
      "[[ 0.458   0.869   0.704 ]\n",
      " [ 0.1205  0.1615  0.044 ]\n",
      " [-0.442  -0.181   0.704 ]\n",
      " [ 0.1195  0.1185 -0.044 ]]\n",
      "\n",
      " sRelu\n",
      "[[ 0.458   0.869   0.704 ]\n",
      " [ 0.1205  0.1615  0.044 ]\n",
      " [ 0.      0.      0.704 ]\n",
      " [ 0.1195  0.1185  0.    ]]\n",
      "\n",
      " Sout\n",
      "[[ 0.09859 ]\n",
      " [ 0.011215]\n",
      " [ 0.06336 ]\n",
      " [ 0.005945]]\n",
      "\n",
      " yout\n",
      "[[ 0.09827181]\n",
      " [ 0.01121453]\n",
      " [ 0.06327535]\n",
      " [ 0.00594493]]\n",
      "\n",
      " Loss\n",
      "[[ 0.20327843]\n",
      " [ 0.24442418]\n",
      " [ 0.28263862]\n",
      " [ 0.2529813 ]]\n",
      "\n",
      " dSout\n",
      "[[-0.89301989]\n",
      " [-0.98866111]\n",
      " [ 1.05901824]\n",
      " [ 1.00590938]]\n",
      "\n",
      " D\n",
      "[[-0.0178604  -0.0267906  -0.08037179]\n",
      " [-0.01977322 -0.02965983 -0.0889795 ]\n",
      " [ 0.          0.          0.09531164]\n",
      " [ 0.02011819  0.03017728  0.        ]]\n",
      "\n",
      " dW\n",
      "(2, 3)\n",
      "\n",
      "new W\n",
      "\n",
      "(3, 1)\n"
     ]
    }
   ],
   "source": [
    "W = np.matrix([[0.6, 0.7 , 0], [0.01, 0.43, 0.88]])\n",
    "w = np.matrix([[0.02], [0.03],[0.09]])\n",
    "X = np.matrix([[0.75, 0.8],[0.2,0.05],[-0.75, 0.8],[0.2, -0.05]])\n",
    "Y = np.matrix([[1],[1],[-1],[-1]])\n",
    "\n",
    "s = np.dot(X,W)\n",
    "print \"s\"\n",
    "print s\n",
    "\n",
    "sReLU = s.clip(min=0)\n",
    "print \"\\n sRelu\"\n",
    "print sReLU\n",
    "\n",
    "sout = np.dot(sReLU,w)\n",
    "print \"\\n Sout\"\n",
    "print sout\n",
    "\n",
    "yout = np.tanh(sout)\n",
    "print \"\\n yout\"\n",
    "print yout\n",
    "\n",
    "Loss = np.power(0.5*(yout - Y),2)\n",
    "print \"\\n Loss\"\n",
    "print Loss\n",
    "\n",
    "dSout = np.multiply(1 - np.power(np.tanh(sout),2),(yout - Y))\n",
    "print \"\\n dSout\"\n",
    "print dSout\n",
    "\n",
    "#derivative of ReLU\n",
    "sReluDeriv = sReLU\n",
    "sReluDeriv[sReluDeriv>0] = 1\n",
    "D = np.multiply(sReluDeriv, np.dot(dSout, w.T))\n",
    "print \"\\n D\"\n",
    "print np.multiply(sReluDeriv, np.dot(dSout, w.T))\n",
    "\n",
    "dW = np.dot(X.T, D)\n",
    "print \"\\n dW\"\n",
    "print dW\n",
    "\n",
    "print \"\\n new W\"\n",
    "W = W - 0.5*dW\n",
    "print W\n",
    "\n",
    "dWout = np.dot(sReLU.T, dSout)\n",
    "print \"\\n dWout\n",
    "print dWout\n",
    "\n",
    "print \"\\n new Wout\"\n",
    "w = w - 0.5*dWout\n",
    "print w"
   ]
  },
  {
   "cell_type": "code",
   "execution_count": null,
   "metadata": {
    "collapsed": true
   },
   "outputs": [],
   "source": []
  }
 ],
 "metadata": {
  "anaconda-cloud": {},
  "kernelspec": {
   "display_name": "Python 2",
   "language": "python",
   "name": "python2"
  },
  "language_info": {
   "codemirror_mode": {
    "name": "ipython",
    "version": 2
   },
   "file_extension": ".py",
   "mimetype": "text/x-python",
   "name": "python",
   "nbconvert_exporter": "python",
   "pygments_lexer": "ipython2",
   "version": "2.7.12"
  }
 },
 "nbformat": 4,
 "nbformat_minor": 1
}
